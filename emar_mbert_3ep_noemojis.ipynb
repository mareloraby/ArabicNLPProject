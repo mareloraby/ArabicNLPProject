{
  "nbformat": 4,
  "nbformat_minor": 0,
  "metadata": {
    "colab": {
      "provenance": []
    },
    "kernelspec": {
      "name": "python3",
      "display_name": "Python 3"
    },
    "language_info": {
      "name": "python"
    }
  },
  "cells": [
    {
      "cell_type": "code",
      "execution_count": null,
      "metadata": {
        "id": "P8LQWVOliW8_"
      },
      "outputs": [],
      "source": [
        "# install necessary libraries\n",
        "\n",
        "!pip install transformers \n",
        "!pip install torch==6.0\n",
        "!pip install datasets\n",
        "\n",
        "from IPython.display import clear_output\n",
        "clear_output()"
      ]
    },
    {
      "cell_type": "code",
      "execution_count": null,
      "metadata": {
        "colab": {
          "base_uri": "https://localhost:8080/",
          "height": 638,
          "referenced_widgets": [
            "f4e53496dec24162a6a4346f3a44f01e",
            "af4aba9b0e544f22a6bfa98ac4738011",
            "28fb9cc984774d058cc07138527f2624",
            "1f854830134b424ea1e364582467e8fd",
            "9f75c33d89b4425ca3eb2dbf039d2516",
            "ed4fb3158de74b97b72d271c3ca28191",
            "f49f60a1ec07466387ba1b76569f0369",
            "6025cfcd9d2448208b97c561c0cb786b",
            "0d7402471ab3433592b0deecfe36a71e",
            "c9a3d82b4e664da181fe54eeec039f08",
            "5de0f765727d4d1daaf5d8100dc0a089",
            "3459716521844b87b3fc0a73416f9a60",
            "1752c0144e5e4101895062ab0ba0227e",
            "8b2066fe9065474585ab711dc017bd6d",
            "8c69a8071a464bc89694b5d9e107cee1",
            "c168d44b898f4ebbba0e72e78848dc98",
            "70b98d25ef0340b08ada36a2757ed5b9",
            "b9b07ba4c4584df49bcbf0222c8d705f",
            "ea54fb194c5c487fb6854466799455f6",
            "a67a54f5be5e40f898c1eb7353187ffb",
            "e833b2baa0604152aea6a67a54379b85",
            "e88acedfb66e41ed9b16379e55fc8863",
            "2940102e5fc44d7888f6e21b48c75396",
            "231d169c992d4142a6388db1decf43f7",
            "dae0fab297f5415eb02193dde844fed3",
            "b826c2a794f3463dbe63832bff396476",
            "dfb633fcc7064485957a14c2255bfe8c",
            "c315ca24b0a8455281db6cf2dba2db8d",
            "8ea6e5c363f34247a49c73fb6bc2bc72",
            "dba07fa6c843456bb03ae889a59621e6",
            "819930dd2b1a46aaac09d8240466728b",
            "f5a1c11565194abca8b24af7e85a8431",
            "ad9e4570c3cf45dcb2b904948229ebf0",
            "69a1ab675f944328a50c09806e408264",
            "f06c280560884c3a9fef08bf58151cd1",
            "f6cb268af7d7482597b3b7453e915a19",
            "72efc28a78f04063b5ed66a1cd7094ff",
            "e7a220d29dd64ee7948615f1a7c7e09e",
            "0fd97131d2c94195854f6dbe02bfbc5e",
            "f003c5ef1f7f4981a557d1d6a80dd978",
            "84e1a5ecad754f8494485c96a88b01ee",
            "88895deb41bb460fa910eac0f26633dc",
            "b0b5d4acab624a98bb2e4b2ad8b0705a",
            "314e4af1c96f463ba15e3f427b4f4c93",
            "d59d6010ae624a13ab300836e9f9537d",
            "77722957e22340418f64c3149fdd9594",
            "bc5dfb207ca5407991b2c063eedc45d4",
            "38a6304ff8c2443fbf7d6f71a5f282f6",
            "e9adfbc3f55341b48e016ea551733322",
            "6d181054387845d4b12a4895834edb1c",
            "39ba894974124c718c56d3d67f49bdf1",
            "f3ad22d44f1f4dbe9c963ae01dcad391",
            "0e507242de5d45a79deb06b5803e25a4",
            "738714a51f1a4cc180f5a9085417f026",
            "bf812bff61e545d89e1b29ca83934305",
            "2fd035a1dc63430faab6078fbff23471",
            "ad218f3f9937481291905eb5fd1c5d06",
            "3e0517799e154dbebee1fc3e7adf9e72",
            "f09bce865ee04d9f989aabe0cd5537ed",
            "e5043871089a46f2a251d6cc169b5c30",
            "395c7580b8d5456191d83310c21f63c2",
            "0f49cb51277e4fde800bd9c064edbc25",
            "9f029cc5d5064efba2174374d7ac92e8",
            "76101f21a92d44858220e46ed05010e7",
            "e19a864208c34c58aa3c721499f681f4",
            "f2c4ebe297c84896b323d7a7a73ac1ce"
          ]
        },
        "id": "RUW3-SA-kcgE",
        "outputId": "08b2b5c0-6648-48f5-a3d6-5cf058d213c5"
      },
      "outputs": [
        {
          "output_type": "display_data",
          "data": {
            "text/plain": [
              "Downloading builder script:   0%|          | 0.00/2.90k [00:00<?, ?B/s]"
            ],
            "application/vnd.jupyter.widget-view+json": {
              "version_major": 2,
              "version_minor": 0,
              "model_id": "f4e53496dec24162a6a4346f3a44f01e"
            }
          },
          "metadata": {}
        },
        {
          "output_type": "display_data",
          "data": {
            "text/plain": [
              "Downloading metadata:   0%|          | 0.00/1.64k [00:00<?, ?B/s]"
            ],
            "application/vnd.jupyter.widget-view+json": {
              "version_major": 2,
              "version_minor": 0,
              "model_id": "3459716521844b87b3fc0a73416f9a60"
            }
          },
          "metadata": {}
        },
        {
          "output_type": "display_data",
          "data": {
            "text/plain": [
              "Downloading readme:   0%|          | 0.00/5.04k [00:00<?, ?B/s]"
            ],
            "application/vnd.jupyter.widget-view+json": {
              "version_major": 2,
              "version_minor": 0,
              "model_id": "2940102e5fc44d7888f6e21b48c75396"
            }
          },
          "metadata": {}
        },
        {
          "output_type": "stream",
          "name": "stdout",
          "text": [
            "Downloading and preparing dataset emotone_ar/default to /root/.cache/huggingface/datasets/emotone_ar/default/0.0.0/36bfa7e8bdf640ccb3d5701933cfde2fa7051f22881cfab2962122771d32c430...\n"
          ]
        },
        {
          "output_type": "display_data",
          "data": {
            "text/plain": [
              "Downloading data:   0%|          | 0.00/535k [00:00<?, ?B/s]"
            ],
            "application/vnd.jupyter.widget-view+json": {
              "version_major": 2,
              "version_minor": 0,
              "model_id": "69a1ab675f944328a50c09806e408264"
            }
          },
          "metadata": {}
        },
        {
          "output_type": "display_data",
          "data": {
            "text/plain": [
              "Generating train split:   0%|          | 0/10065 [00:00<?, ? examples/s]"
            ],
            "application/vnd.jupyter.widget-view+json": {
              "version_major": 2,
              "version_minor": 0,
              "model_id": "d59d6010ae624a13ab300836e9f9537d"
            }
          },
          "metadata": {}
        },
        {
          "output_type": "stream",
          "name": "stdout",
          "text": [
            "Dataset emotone_ar downloaded and prepared to /root/.cache/huggingface/datasets/emotone_ar/default/0.0.0/36bfa7e8bdf640ccb3d5701933cfde2fa7051f22881cfab2962122771d32c430. Subsequent calls will reuse this data.\n"
          ]
        },
        {
          "output_type": "display_data",
          "data": {
            "text/plain": [
              "  0%|          | 0/1 [00:00<?, ?it/s]"
            ],
            "application/vnd.jupyter.widget-view+json": {
              "version_major": 2,
              "version_minor": 0,
              "model_id": "2fd035a1dc63430faab6078fbff23471"
            }
          },
          "metadata": {}
        },
        {
          "output_type": "execute_result",
          "data": {
            "text/plain": [
              "                                                   tweet  label\n",
              "0                الاوليمبياد الجايه هكون لسه ف الكليه ..      0\n",
              "1      عجز الموازنه وصل ل93.7 % من الناتج المحلي يعني...      1\n",
              "2                             كتنا نيله ف حظنا الهباب xD      3\n",
              "3      جميعنا نريد تحقيق اهدافنا لكن تونس تالقت في حر...      2\n",
              "4      الاوليمبياد نظامها مختلف .. ومواعيد المونديال ...      0\n",
              "...                                                  ...    ...\n",
              "10060  2222: يلا يا جماعه حفله عمرو دياب خلصت نريح شو...      3\n",
              "10061                  Mohamed5: اييييه دااا 😲😲 اوزيييل❤      6\n",
              "10062    عملتلها ريتويت بمناسبه ساره بتاعه الاوليمبياد 😃      0\n",
              "10063    وعليك قبلنا يانجم النجوم ياعندليب الحب والاحساس      2\n",
              "10064  AlHamad يطلع ننهم كل شي سيء ووضيع كل خساسه الع...      1\n",
              "\n",
              "[10065 rows x 2 columns]"
            ],
            "text/html": [
              "\n",
              "  <div id=\"df-ba3f3fe6-b9c9-47cc-85d7-00912628428f\">\n",
              "    <div class=\"colab-df-container\">\n",
              "      <div>\n",
              "<style scoped>\n",
              "    .dataframe tbody tr th:only-of-type {\n",
              "        vertical-align: middle;\n",
              "    }\n",
              "\n",
              "    .dataframe tbody tr th {\n",
              "        vertical-align: top;\n",
              "    }\n",
              "\n",
              "    .dataframe thead th {\n",
              "        text-align: right;\n",
              "    }\n",
              "</style>\n",
              "<table border=\"1\" class=\"dataframe\">\n",
              "  <thead>\n",
              "    <tr style=\"text-align: right;\">\n",
              "      <th></th>\n",
              "      <th>tweet</th>\n",
              "      <th>label</th>\n",
              "    </tr>\n",
              "  </thead>\n",
              "  <tbody>\n",
              "    <tr>\n",
              "      <th>0</th>\n",
              "      <td>الاوليمبياد الجايه هكون لسه ف الكليه ..</td>\n",
              "      <td>0</td>\n",
              "    </tr>\n",
              "    <tr>\n",
              "      <th>1</th>\n",
              "      <td>عجز الموازنه وصل ل93.7 % من الناتج المحلي يعني...</td>\n",
              "      <td>1</td>\n",
              "    </tr>\n",
              "    <tr>\n",
              "      <th>2</th>\n",
              "      <td>كتنا نيله ف حظنا الهباب xD</td>\n",
              "      <td>3</td>\n",
              "    </tr>\n",
              "    <tr>\n",
              "      <th>3</th>\n",
              "      <td>جميعنا نريد تحقيق اهدافنا لكن تونس تالقت في حر...</td>\n",
              "      <td>2</td>\n",
              "    </tr>\n",
              "    <tr>\n",
              "      <th>4</th>\n",
              "      <td>الاوليمبياد نظامها مختلف .. ومواعيد المونديال ...</td>\n",
              "      <td>0</td>\n",
              "    </tr>\n",
              "    <tr>\n",
              "      <th>...</th>\n",
              "      <td>...</td>\n",
              "      <td>...</td>\n",
              "    </tr>\n",
              "    <tr>\n",
              "      <th>10060</th>\n",
              "      <td>2222: يلا يا جماعه حفله عمرو دياب خلصت نريح شو...</td>\n",
              "      <td>3</td>\n",
              "    </tr>\n",
              "    <tr>\n",
              "      <th>10061</th>\n",
              "      <td>Mohamed5: اييييه دااا 😲😲 اوزيييل❤</td>\n",
              "      <td>6</td>\n",
              "    </tr>\n",
              "    <tr>\n",
              "      <th>10062</th>\n",
              "      <td>عملتلها ريتويت بمناسبه ساره بتاعه الاوليمبياد 😃</td>\n",
              "      <td>0</td>\n",
              "    </tr>\n",
              "    <tr>\n",
              "      <th>10063</th>\n",
              "      <td>وعليك قبلنا يانجم النجوم ياعندليب الحب والاحساس</td>\n",
              "      <td>2</td>\n",
              "    </tr>\n",
              "    <tr>\n",
              "      <th>10064</th>\n",
              "      <td>AlHamad يطلع ننهم كل شي سيء ووضيع كل خساسه الع...</td>\n",
              "      <td>1</td>\n",
              "    </tr>\n",
              "  </tbody>\n",
              "</table>\n",
              "<p>10065 rows × 2 columns</p>\n",
              "</div>\n",
              "      <button class=\"colab-df-convert\" onclick=\"convertToInteractive('df-ba3f3fe6-b9c9-47cc-85d7-00912628428f')\"\n",
              "              title=\"Convert this dataframe to an interactive table.\"\n",
              "              style=\"display:none;\">\n",
              "        \n",
              "  <svg xmlns=\"http://www.w3.org/2000/svg\" height=\"24px\"viewBox=\"0 0 24 24\"\n",
              "       width=\"24px\">\n",
              "    <path d=\"M0 0h24v24H0V0z\" fill=\"none\"/>\n",
              "    <path d=\"M18.56 5.44l.94 2.06.94-2.06 2.06-.94-2.06-.94-.94-2.06-.94 2.06-2.06.94zm-11 1L8.5 8.5l.94-2.06 2.06-.94-2.06-.94L8.5 2.5l-.94 2.06-2.06.94zm10 10l.94 2.06.94-2.06 2.06-.94-2.06-.94-.94-2.06-.94 2.06-2.06.94z\"/><path d=\"M17.41 7.96l-1.37-1.37c-.4-.4-.92-.59-1.43-.59-.52 0-1.04.2-1.43.59L10.3 9.45l-7.72 7.72c-.78.78-.78 2.05 0 2.83L4 21.41c.39.39.9.59 1.41.59.51 0 1.02-.2 1.41-.59l7.78-7.78 2.81-2.81c.8-.78.8-2.07 0-2.86zM5.41 20L4 18.59l7.72-7.72 1.47 1.35L5.41 20z\"/>\n",
              "  </svg>\n",
              "      </button>\n",
              "      \n",
              "  <style>\n",
              "    .colab-df-container {\n",
              "      display:flex;\n",
              "      flex-wrap:wrap;\n",
              "      gap: 12px;\n",
              "    }\n",
              "\n",
              "    .colab-df-convert {\n",
              "      background-color: #E8F0FE;\n",
              "      border: none;\n",
              "      border-radius: 50%;\n",
              "      cursor: pointer;\n",
              "      display: none;\n",
              "      fill: #1967D2;\n",
              "      height: 32px;\n",
              "      padding: 0 0 0 0;\n",
              "      width: 32px;\n",
              "    }\n",
              "\n",
              "    .colab-df-convert:hover {\n",
              "      background-color: #E2EBFA;\n",
              "      box-shadow: 0px 1px 2px rgba(60, 64, 67, 0.3), 0px 1px 3px 1px rgba(60, 64, 67, 0.15);\n",
              "      fill: #174EA6;\n",
              "    }\n",
              "\n",
              "    [theme=dark] .colab-df-convert {\n",
              "      background-color: #3B4455;\n",
              "      fill: #D2E3FC;\n",
              "    }\n",
              "\n",
              "    [theme=dark] .colab-df-convert:hover {\n",
              "      background-color: #434B5C;\n",
              "      box-shadow: 0px 1px 3px 1px rgba(0, 0, 0, 0.15);\n",
              "      filter: drop-shadow(0px 1px 2px rgba(0, 0, 0, 0.3));\n",
              "      fill: #FFFFFF;\n",
              "    }\n",
              "  </style>\n",
              "\n",
              "      <script>\n",
              "        const buttonEl =\n",
              "          document.querySelector('#df-ba3f3fe6-b9c9-47cc-85d7-00912628428f button.colab-df-convert');\n",
              "        buttonEl.style.display =\n",
              "          google.colab.kernel.accessAllowed ? 'block' : 'none';\n",
              "\n",
              "        async function convertToInteractive(key) {\n",
              "          const element = document.querySelector('#df-ba3f3fe6-b9c9-47cc-85d7-00912628428f');\n",
              "          const dataTable =\n",
              "            await google.colab.kernel.invokeFunction('convertToInteractive',\n",
              "                                                     [key], {});\n",
              "          if (!dataTable) return;\n",
              "\n",
              "          const docLinkHtml = 'Like what you see? Visit the ' +\n",
              "            '<a target=\"_blank\" href=https://colab.research.google.com/notebooks/data_table.ipynb>data table notebook</a>'\n",
              "            + ' to learn more about interactive tables.';\n",
              "          element.innerHTML = '';\n",
              "          dataTable['output_type'] = 'display_data';\n",
              "          await google.colab.output.renderOutput(dataTable, element);\n",
              "          const docLink = document.createElement('div');\n",
              "          docLink.innerHTML = docLinkHtml;\n",
              "          element.appendChild(docLink);\n",
              "        }\n",
              "      </script>\n",
              "    </div>\n",
              "  </div>\n",
              "  "
            ]
          },
          "metadata": {},
          "execution_count": 2
        }
      ],
      "source": [
        "import datasets\n",
        "from datasets import load_dataset\n",
        "import pandas as pd\n",
        "\n",
        "dataset = load_dataset('emotone_ar')  \n",
        "df = dataset['train'].to_pandas()\n",
        "df"
      ]
    },
    {
      "cell_type": "code",
      "execution_count": null,
      "metadata": {
        "colab": {
          "base_uri": "https://localhost:8080/"
        },
        "id": "O1pwgkYuvRCo",
        "outputId": "7cd3cd4b-30f0-4375-e6e7-c11e843daa54"
      },
      "outputs": [
        {
          "output_type": "execute_result",
          "data": {
            "text/plain": [
              "0    1550\n",
              "1    1444\n",
              "2    1281\n",
              "3    1256\n",
              "4    1220\n",
              "7    1207\n",
              "5    1062\n",
              "6    1045\n",
              "Name: label, dtype: int64"
            ]
          },
          "metadata": {},
          "execution_count": 3
        }
      ],
      "source": [
        "df.label.value_counts()"
      ]
    },
    {
      "cell_type": "code",
      "execution_count": null,
      "metadata": {
        "id": "2pu_PFJDvRCp"
      },
      "outputs": [],
      "source": [
        "mapping_labels = {0:'none',\n",
        "1:'anger' ,\n",
        "2:'joy', \n",
        "3:'sadness',\n",
        "4:'love' ,\n",
        "5:'sympathy',\n",
        "6:'surprise',\n",
        "7:'fear'}"
      ]
    },
    {
      "cell_type": "markdown",
      "metadata": {
        "id": "d57I0d3t2iZW"
      },
      "source": [
        "## Data Preprocessing (2)"
      ]
    },
    {
      "cell_type": "code",
      "execution_count": null,
      "metadata": {
        "id": "VNP_N5d72iZW"
      },
      "outputs": [],
      "source": [
        "# https://github.com/motazsaad/process-arabic-text/blob/master/clean_arabic_text.py\n",
        "\n",
        "import re\n",
        "import string\n",
        "import sys\n",
        "import argparse\n",
        "\n",
        "arabic_punctuations = '''`÷×؛<>_()*&^%][ـ،/:\"؟.,'{}~¦+|!”…“–ـ'''\n",
        "english_punctuations = string.punctuation\n",
        "punctuations_list = arabic_punctuations + english_punctuations\n",
        "\n",
        "arabic_diacritics = re.compile(\"\"\"\n",
        "                             ّ    | # Tashdid\n",
        "                             َ    | # Fatha\n",
        "                             ً    | # Tanwin Fath\n",
        "                             ُ    | # Damma\n",
        "                             ٌ    | # Tanwin Damm\n",
        "                             ِ    | # Kasra\n",
        "                             ٍ    | # Tanwin Kasr\n",
        "                             ْ    | # Sukun\n",
        "                             ـ     # Tatwil/Kashida\n",
        "                         \"\"\", re.VERBOSE)\n",
        "\n",
        "def remove_diacritics(text):\n",
        "  text = re.sub(arabic_diacritics, '', text)\n",
        "  return text\n",
        "\n",
        "def remove_repeating_char(text):\n",
        "  return re.sub(r'(.)\\1+', r'\\1', text)\n",
        "\n",
        "def remove_newlines(text):\n",
        "  text = re.sub('\\n',\" . \",text)\n",
        "  return text  \n",
        "\n",
        "def remove_punctuations(text):\n",
        "    translator = str.maketrans('', '', punctuations_list)\n",
        "    return text.translate(translator)\n",
        "\n",
        "def replace_emoji(text): \n",
        "    text = re.sub(r'<3|< 3|❤️|💖|😍|💕|😘|🥰|💕|💝|💗|💜|💙|🖤|💚|💛|🤍|❤',\n",
        "                  ' قلب ',\n",
        "                  text) \n",
        "\n",
        "    text = re.sub(r':P|:-P|😂|🤣',\n",
        "                  ' ضحك ',\n",
        "                  text)\n",
        "\n",
        "    text = re.sub(r'[☺😌😁😃😄😆😊😸😺😊😀😋☺️🙂💃]',\n",
        "                  ' سعادة ',\n",
        "                  text)\n",
        "    \n",
        "    \n",
        "    text = re.sub(r':D',\n",
        "                  ' سعادة ',\n",
        "                  text)\n",
        "\n",
        "    text = re.sub(r'[😥😣😓😔😕☹️🙁😖😞😟😢😭😩😿😫😩💔]',\n",
        "                  ' حزن  ',\n",
        "                  text)\n",
        "    text = re.sub(r'(::|\\)-:)',\n",
        "                  '  حزن  ', \n",
        "                  text)\n",
        "    text = re.sub(r'(:,\\(|:\\'\\(|:\"\\()',\n",
        "                  ' حزن ', \n",
        "                  text)\n",
        "\n",
        "    text = re.sub(r'[😨😱😵]',\n",
        "                  ' مفاجأة ', \n",
        "                  text)\n",
        "\n",
        "    text = re.sub(r'[😳😅🙈]',\n",
        "                  ' محرج ', \n",
        "                  text)\n",
        "\n",
        "    text = re.sub(r'[😤😠😡🤬👿]',\n",
        "                  ' غضب ', \n",
        "                  text)\n",
        "\n",
        "    text = re.sub(r'[😑😒🙄😐😶]',\n",
        "                  ' ملل ', \n",
        "                  text)\n",
        "\n",
        "    text = re.sub('[\\U0001F600-\\U0001FFFF]',\" \", text)\n",
        "    text = re.sub('[\\U0001F300-\\U0001F5FF]',\" \", text)\n",
        "    text = re.sub('[\\U0001F680-\\U0001F6FF]',\" \", text)\n",
        "    text = re.sub('[\"\\U0001F1E0-\\U0001F1FF]',\" \", text)\n",
        "\n",
        "    \n",
        "    weirdPatterns = re.compile(\"[\"\n",
        "                               u\"\\U00002702-\\U000027B0\"\n",
        "                               u\"\\U000024C2-\\U0001F251\"\n",
        "                               u\"\\U0001f926-\\U0001f937\"\n",
        "                               u'\\U00010000-\\U0010ffff'\n",
        "                               u\"\\u200d\"\n",
        "                               u\"\\u2640-\\u2642\"\n",
        "                               u\"\\u2600-\\u2B55\"\n",
        "                               u\"\\u23cf\"\n",
        "                               u\"\\u23e9\"\n",
        "                               u\"\\u231a\"\n",
        "                               u\"\\u3030\"\n",
        "                               u\"\\ufe0f\"\n",
        "                               u\"\\u2069\"\n",
        "                               u\"\\u2066\"\n",
        "                               u\"\\u200c\"\n",
        "                               u\"\\u2068\"\n",
        "                               u\"\\u2067\"\n",
        "                               \"]+\", flags=re.UNICODE)\n",
        "    text = weirdPatterns.sub(r'', text)\n",
        "    \n",
        "    return text"
      ]
    },
    {
      "cell_type": "code",
      "execution_count": null,
      "metadata": {
        "id": "UIl05Fft2iZX"
      },
      "outputs": [],
      "source": [
        "def text_preprocessing(text):\n",
        "    text = replace_emoji(remove_repeating_char(remove_newlines(text)))\n",
        "    return text"
      ]
    },
    {
      "cell_type": "code",
      "execution_count": null,
      "metadata": {
        "id": "4LRwpsf_vRCr"
      },
      "outputs": [],
      "source": [
        "import os\n",
        "import re\n",
        "from tqdm import tqdm\n",
        "import numpy as np\n",
        "import pandas as pd\n",
        "import matplotlib.pyplot as plt\n",
        "import csv\n",
        "\n",
        "%matplotlib inline"
      ]
    },
    {
      "cell_type": "code",
      "execution_count": null,
      "metadata": {
        "colab": {
          "base_uri": "https://localhost:8080/"
        },
        "id": "L61Ao6gevRCs",
        "outputId": "bea654e7-617b-489a-f5ef-bceb3c7d5bd2"
      },
      "outputs": [
        {
          "output_type": "stream",
          "name": "stdout",
          "text": [
            "There are 1 GPU(s) available.\n",
            "Device name: Tesla T4\n"
          ]
        }
      ],
      "source": [
        "import torch\n",
        "\n",
        "if torch.cuda.is_available():       \n",
        "    device = torch.device(\"cuda\")\n",
        "    print(f'There are {torch.cuda.device_count()} GPU(s) available.')\n",
        "    print('Device name:', torch.cuda.get_device_name(0))\n",
        "\n",
        "else:\n",
        "    print('No GPU available, using the CPU instead.')\n",
        "    device = torch.device(\"cpu\")"
      ]
    },
    {
      "cell_type": "markdown",
      "metadata": {
        "id": "9-K4kTGH2zg6"
      },
      "source": [
        "## mBERT without emojis"
      ]
    },
    {
      "cell_type": "code",
      "source": [
        "def remove_emojis(text):\n",
        "    text = re.sub('[\\U0001F600-\\U0001FFFF]',\" \", text)\n",
        "    text = re.sub('[\\U0001F300-\\U0001F5FF]',\" \", text)\n",
        "    text = re.sub('[\\U0001F680-\\U0001F6FF]',\" \", text)\n",
        "    text = re.sub('[\"\\U0001F1E0-\\U0001F1FF]',\" \", text)\n",
        "    \n",
        "    weirdPatterns = re.compile(\"[\"\n",
        "                               u\"\\U00002702-\\U000027B0\"\n",
        "                               u\"\\U000024C2-\\U0001F251\"\n",
        "                               u\"\\U0001f926-\\U0001f937\"\n",
        "                               u'\\U00010000-\\U0010ffff'\n",
        "                               u\"\\u200d\"\n",
        "                               u\"\\u2640-\\u2642\"\n",
        "                               u\"\\u2600-\\u2B55\"\n",
        "                               u\"\\u23cf\"\n",
        "                               u\"\\u23e9\"\n",
        "                               u\"\\u231a\"\n",
        "                               u\"\\u3030\"\n",
        "                               u\"\\ufe0f\"\n",
        "                               u\"\\u2069\"\n",
        "                               u\"\\u2066\"\n",
        "                               u\"\\u200c\"\n",
        "                               u\"\\u2068\"\n",
        "                               u\"\\u2067\"\n",
        "                               \"]+\", flags=re.UNICODE)\n",
        "    text = weirdPatterns.sub(r'', text)\n",
        "    \n",
        "    return text"
      ],
      "metadata": {
        "id": "tE2axePD2zhD"
      },
      "execution_count": null,
      "outputs": []
    },
    {
      "cell_type": "code",
      "source": [
        "def text_preprocessing_2(text):\n",
        "    text = remove_emojis(remove_repeating_char(remove_newlines(text)))\n",
        "    return text"
      ],
      "metadata": {
        "id": "5jSEnZLO2zhD"
      },
      "execution_count": null,
      "outputs": []
    },
    {
      "cell_type": "code",
      "execution_count": null,
      "metadata": {
        "id": "PQ4nyb6F2zhD"
      },
      "outputs": [],
      "source": [
        "# import a model from huggingface\n",
        "from transformers import AutoTokenizer, AutoModel\n",
        "from transformers import BertTokenizer\n",
        "\n",
        "\n",
        "model_path = 'bert-base-multilingual-uncased'\n",
        "# 'UBC-NLP/MARBERT'\n",
        "tokenizer = AutoTokenizer.from_pretrained(model_path)"
      ]
    },
    {
      "cell_type": "code",
      "source": [
        "all_tweets = df.tweet.values\n",
        "\n",
        "encoded_tweets = [tokenizer.encode(text_preprocessing_2(sent), add_special_tokens=True) for sent in all_tweets]\n",
        "\n",
        "# Find the maximum length\n",
        "max_len = max([len(sent) for sent in encoded_tweets])\n",
        "print('Max length: ', max_len)"
      ],
      "metadata": {
        "colab": {
          "base_uri": "https://localhost:8080/"
        },
        "outputId": "8deb768c-dc86-4b5c-f36a-6560dd78ac4a",
        "id": "PJdG0FfR2zhD"
      },
      "execution_count": null,
      "outputs": [
        {
          "output_type": "stream",
          "name": "stdout",
          "text": [
            "Max length:  87\n"
          ]
        }
      ]
    },
    {
      "cell_type": "code",
      "execution_count": null,
      "metadata": {
        "id": "5mEgLMEc2zhE"
      },
      "outputs": [],
      "source": [
        "# Specify max length to trancuate/pad to\n",
        "MAX_LEN = 100\n",
        "# 50 for marbert ??\n",
        "# 65 arabert ??\n",
        "\n",
        "def preprocessing_for_bert(data, text_preprocessing_fn = text_preprocessing ):\n",
        "    \"\"\"Perform required preprocessing steps for pretrained BERT.\n",
        "    @param    data (np.array): Array of texts to be processed.\n",
        "    @return   input_ids (torch.Tensor): Tensor of token ids to be fed to a model.\n",
        "    @return   attention_masks (torch.Tensor): Tensor of indices specifying which\n",
        "                  tokens should be attended to by the model.\n",
        "    \"\"\"\n",
        "    # Create empty lists to store outputs\n",
        "    input_ids = []\n",
        "    attention_masks = []\n",
        "\n",
        "    # For every sentence...\n",
        "    for i,tweet in enumerate(data):\n",
        "        # `encode_plus` will:\n",
        "        #    (1) Tokenize the sentence\n",
        "        #    (2) Add the `[CLS]` and `[SEP]` token to the start and end\n",
        "        #    (3) Truncate/Pad sentence to max length\n",
        "        #    (4) Map tokens to their IDs\n",
        "        #    (5) Create attention mask\n",
        "        #    (6) Return a dictionary of outputs\n",
        "        encoded_sent = tokenizer.encode_plus(\n",
        "            text=text_preprocessing_fn(r\"\"+tweet),  # Preprocess sentence\n",
        "            add_special_tokens=True,        # Add `[CLS]` and `[SEP]`\n",
        "            max_length=MAX_LEN,                  # Max length to truncate/pad\n",
        "            padding='max_length',        # Pad sentence to max length\n",
        "            return_attention_mask=True,     # Return attention mask\n",
        "            truncation = True \n",
        "            )\n",
        "        \n",
        "        # Add the outputs to the lists\n",
        "        input_ids.append(encoded_sent.get('input_ids'))\n",
        "        attention_masks.append(encoded_sent.get('attention_mask'))\n",
        "    # Convert lists to tensors\n",
        "    input_ids = torch.tensor(input_ids)\n",
        "    attention_masks = torch.tensor(attention_masks)\n",
        "\n",
        "    return input_ids, attention_masks"
      ]
    },
    {
      "cell_type": "code",
      "execution_count": null,
      "metadata": {
        "id": "d8eSRrOX2zhE"
      },
      "outputs": [],
      "source": [
        "from sklearn.model_selection import train_test_split\n",
        "\n",
        "# Train: 80% Test: 20%\n",
        "df_train, df_test = train_test_split(\n",
        "  df,\n",
        "  test_size=0.2,\n",
        "  random_state= 2023\n",
        ")\n",
        "\n",
        "# Test: 50% Validation: 50%\n",
        "df_val, df_test = train_test_split(\n",
        "  df_test,\n",
        "  test_size=0.5,\n",
        "  random_state= 2023\n",
        ")\n",
        "\n",
        "X_train = df_train['tweet'].to_numpy()\n",
        "X_val = df_val['tweet'].to_numpy()\n",
        "\n",
        "y_train = df_train['label'].to_numpy()\n",
        "y_val = df_val['label'].to_numpy()     "
      ]
    },
    {
      "cell_type": "code",
      "execution_count": null,
      "metadata": {
        "colab": {
          "base_uri": "https://localhost:8080/"
        },
        "outputId": "bbf08b62-e258-4f7e-cebf-55b71df5c1e0",
        "id": "JcYRGy_d2zhE"
      },
      "outputs": [
        {
          "output_type": "stream",
          "name": "stdout",
          "text": [
            "Tokenizing data...\n"
          ]
        }
      ],
      "source": [
        "# Run function `preprocessing_for_bert` on the train set and the validation set\n",
        "print('Tokenizing data...')\n",
        "train_inputs, train_masks = preprocessing_for_bert(X_train)\n",
        "val_inputs, val_masks = preprocessing_for_bert(X_val)"
      ]
    },
    {
      "cell_type": "code",
      "execution_count": null,
      "metadata": {
        "id": "nVqLg2Eh2zhE"
      },
      "outputs": [],
      "source": [
        "from torch.utils.data import TensorDataset, DataLoader, RandomSampler, SequentialSampler\n",
        "\n",
        "# Convert other data types to torch.Tensor\n",
        "train_labels = torch.tensor(y_train)\n",
        "val_labels = torch.tensor(y_val)\n",
        "\n",
        "\n",
        "# For fine-tuning BERT, the authors recommend a batch size of 16 or 32.\n",
        "batch_size = 32\n",
        "\n",
        "# Create the DataLoader for our training set\n",
        "train_data = TensorDataset(train_inputs, train_masks, train_labels)\n",
        "train_sampler = RandomSampler(train_data)\n",
        "train_dataloader = DataLoader(train_data, sampler=train_sampler, batch_size=batch_size)\n",
        "\n",
        "# Create the DataLoader for our validation set\n",
        "val_data = TensorDataset(val_inputs, val_masks, val_labels)\n",
        "val_sampler = SequentialSampler(val_data)\n",
        "val_dataloader = DataLoader(val_data, sampler=val_sampler, batch_size=batch_size)"
      ]
    },
    {
      "cell_type": "code",
      "execution_count": null,
      "metadata": {
        "colab": {
          "base_uri": "https://localhost:8080/"
        },
        "outputId": "f0b32990-67d6-4b6d-af3f-45753d4b7950",
        "id": "9qTZ1iWJ2zhF"
      },
      "outputs": [
        {
          "output_type": "stream",
          "name": "stdout",
          "text": [
            "CPU times: user 37 µs, sys: 2 µs, total: 39 µs\n",
            "Wall time: 41.2 µs\n"
          ]
        }
      ],
      "source": [
        "%%time\n",
        "import torch\n",
        "import torch.nn as nn\n",
        "from transformers import BertModel\n",
        "\n",
        "# Create the BertClassfier class\n",
        "class BertClassifier(nn.Module):\n",
        "    \"\"\"Bert Model for Classification Tasks.\n",
        "    \"\"\"\n",
        "    def __init__(self, freeze_bert=False):\n",
        "        \"\"\"\n",
        "        @param    bert: a BertModel object\n",
        "        @param    classifier: a torch.nn.Module classifier\n",
        "        @param    freeze_bert (bool): Set `False` to fine-tune the BERT model\n",
        "        \"\"\"\n",
        "        super(BertClassifier, self).__init__()\n",
        "        # Specify hidden size of BERT, hidden size of our classifier, and number of labels\n",
        "        D_in, H, D_out = 768, 50, 8 # 8 classes\n",
        "\n",
        "        # Instantiate BERT model\n",
        "        self.bert = BertModel.from_pretrained(model_path)\n",
        "\n",
        "        # Instantiate an one-layer feed-forward classifier\n",
        "        self.classifier = nn.Sequential(\n",
        "            nn.Linear(D_in, H),\n",
        "            nn.ReLU(),\n",
        "            #nn.Dropout(0.5),\n",
        "            nn.Linear(H, D_out)\n",
        "        )\n",
        "\n",
        "        # Freeze the BERT model\n",
        "        if freeze_bert:\n",
        "            for param in self.bert.parameters():\n",
        "                param.requires_grad = False\n",
        "        \n",
        "    def forward(self, input_ids, attention_mask):\n",
        "        \"\"\"\n",
        "        Feed input to BERT and the classifier to compute logits.\n",
        "        @param    input_ids (torch.Tensor): an input tensor with shape (batch_size,\n",
        "                      max_length)\n",
        "        @param    attention_mask (torch.Tensor): a tensor that hold attention mask\n",
        "                      information with shape (batch_size, max_length)\n",
        "        @return   logits (torch.Tensor): an output tensor with shape (batch_size,\n",
        "                      num_labels)\n",
        "        \"\"\"\n",
        "        # Feed input to BERT\n",
        "        outputs = self.bert(input_ids=input_ids,\n",
        "                            attention_mask=attention_mask)\n",
        "        \n",
        "        # Extract the last hidden state of the token `[CLS]` for classification task\n",
        "        last_hidden_state_cls = outputs[0][:, 0, :]\n",
        "\n",
        "        # Feed input to classifier to compute logits\n",
        "        logits = self.classifier(last_hidden_state_cls)\n",
        "\n",
        "        return logits"
      ]
    },
    {
      "cell_type": "code",
      "execution_count": null,
      "metadata": {
        "id": "NmwAyXQw2zhF"
      },
      "outputs": [],
      "source": [
        "# To fine-tune our Bert Classifier, we need to create an optimizer. The authors recommend following hyper-parameters:\n",
        "\n",
        "# Batch size: 16 or 32\n",
        "# Learning rate (Adam): 5e-5, 3e-5 or 2e-5\n",
        "# Number of epochs: 2, 3, 4\n",
        "\n",
        "from transformers import AdamW, get_linear_schedule_with_warmup\n",
        "\n",
        "def initialize_model(epochs=3):\n",
        "    \"\"\"Initialize the Bert Classifier, the optimizer and the learning rate scheduler.\n",
        "    \"\"\"\n",
        "    # Instantiate Bert Classifier\n",
        "    bert_classifier = BertClassifier(freeze_bert=False)\n",
        "\n",
        "    # Tell PyTorch to run the model on GPU\n",
        "    bert_classifier.to(device)\n",
        "\n",
        "    # Create the optimizer\n",
        "    optimizer = AdamW(bert_classifier.parameters(),\n",
        "                      lr=5e-5,    # Default learning rate\n",
        "                      eps=1e-8    # Default epsilon value\n",
        "                      )\n",
        "\n",
        "    # Total number of training steps\n",
        "    total_steps = len(train_dataloader) * epochs\n",
        "\n",
        "    # Set up the learning rate scheduler\n",
        "    scheduler = get_linear_schedule_with_warmup(optimizer,\n",
        "                                                num_warmup_steps=0, # Default value\n",
        "                                                num_training_steps=total_steps)\n",
        "    return bert_classifier, optimizer, scheduler"
      ]
    },
    {
      "cell_type": "code",
      "execution_count": null,
      "metadata": {
        "id": "I_3BsWsi2zhF"
      },
      "outputs": [],
      "source": [
        "import random\n",
        "import time\n",
        " \n",
        "# Specify loss function\n",
        "loss_fn = nn.CrossEntropyLoss()\n",
        "\n",
        "def set_seed(seed_value=42):\n",
        "    \"\"\"Set seed for reproducibility.\n",
        "    \"\"\"\n",
        "    random.seed(seed_value)\n",
        "    np.random.seed(seed_value)\n",
        "    torch.manual_seed(seed_value)\n",
        "    torch.cuda.manual_seed_all(seed_value)\n",
        "\n",
        "def train(model, train_dataloader, val_dataloader=None, epochs=4, evaluation=False):\n",
        "    \"\"\"Train the BertClassifier model.\n",
        "    \"\"\"\n",
        "    # Start training loop\n",
        "    print(\"Start training...\\n\")\n",
        "    for epoch_i in range(epochs):\n",
        "        # =======================================\n",
        "        #               Training\n",
        "        # =======================================\n",
        "        # Print the header of the result table\n",
        "        print(f\"{'Epoch':^7} | {'Batch':^7} | {'Train Loss':^12} | {'Val Loss':^10} | {'Val Acc':^9} | {'Elapsed':^9}\")\n",
        "        print(\"-\"*70)\n",
        "\n",
        "        # Measure the elapsed time of each epoch\n",
        "        t0_epoch, t0_batch = time.time(), time.time()\n",
        "\n",
        "        # Reset tracking variables at the beginning of each epoch\n",
        "        total_loss, batch_loss, batch_counts = 0, 0, 0\n",
        "\n",
        "        # Put the model into the training mode\n",
        "        model.train()\n",
        "\n",
        "        # For each batch of training data...\n",
        "        for step, batch in enumerate(train_dataloader):\n",
        "            batch_counts +=1\n",
        "            # Load batch to GPU\n",
        "            b_input_ids, b_attn_mask, b_labels = tuple(t.to(device) for t in batch)\n",
        "\n",
        "            # Zero out any previously calculated gradients\n",
        "            model.zero_grad()\n",
        "\n",
        "            # Perform a forward pass. This will return logits.\n",
        "            logits = model(b_input_ids, b_attn_mask)\n",
        "\n",
        "            # Compute loss and accumulate the loss values\n",
        "            loss = loss_fn(logits, b_labels)\n",
        "            batch_loss += loss.item()\n",
        "            total_loss += loss.item()\n",
        "\n",
        "            # Perform a backward pass to calculate gradients\n",
        "            loss.backward()\n",
        "\n",
        "            # Clip the norm of the gradients to 1.0 to prevent \"exploding gradients\"\n",
        "            torch.nn.utils.clip_grad_norm_(model.parameters(), 1.0)\n",
        "\n",
        "            # Update parameters and the learning rate\n",
        "            optimizer.step()\n",
        "            scheduler.step()\n",
        "\n",
        "            # Print the loss values and time elapsed for every 20 batches\n",
        "            if (step % 20 == 0 and step != 0) or (step == len(train_dataloader) - 1):\n",
        "                # Calculate time elapsed for 20 batches\n",
        "                time_elapsed = time.time() - t0_batch\n",
        "\n",
        "                # Print training results\n",
        "                print(f\"{epoch_i + 1:^7} | {step:^7} | {batch_loss / batch_counts:^12.6f} | {'-':^10} | {'-':^9} | {time_elapsed:^9.2f}\")\n",
        "\n",
        "                # Reset batch tracking variables\n",
        "                batch_loss, batch_counts = 0, 0\n",
        "                t0_batch = time.time()\n",
        "\n",
        "        # Calculate the average loss over the entire training data\n",
        "        avg_train_loss = total_loss / len(train_dataloader)\n",
        "\n",
        "        print(\"-\"*70)\n",
        "        # =======================================\n",
        "        #               Evaluation\n",
        "        # =======================================\n",
        "        if evaluation == True:\n",
        "            # After the completion of each training epoch, measure the model's performance\n",
        "            # on our validation set.\n",
        "            val_loss, val_accuracy = evaluate(model, val_dataloader)\n",
        "\n",
        "            # Print performance over the entire training data\n",
        "            time_elapsed = time.time() - t0_epoch\n",
        "            \n",
        "            print(f\"{epoch_i + 1:^7} | {'-':^7} | {avg_train_loss:^12.6f} | {val_loss:^10.6f} | {val_accuracy:^9.2f} | {time_elapsed:^9.2f}\")\n",
        "            print(\"-\"*70)\n",
        "        print(\"\\n\")\n",
        "    \n",
        "    print(\"Training complete!\")\n",
        "\n",
        "\n",
        "def evaluate(model, val_dataloader):\n",
        "    \"\"\"After the completion of each training epoch, measure the model's performance\n",
        "    on our validation set.\n",
        "    \"\"\"\n",
        "    # Put the model into the evaluation mode. The dropout layers are disabled during\n",
        "    # the test time.\n",
        "    model.eval()\n",
        "\n",
        "    # Tracking variables\n",
        "    val_accuracy = []\n",
        "    val_loss = []\n",
        "\n",
        "    # For each batch in our validation set...\n",
        "    for batch in val_dataloader:\n",
        "        # Load batch to GPU\n",
        "        b_input_ids, b_attn_mask, b_labels = tuple(t.to(device) for t in batch)\n",
        "\n",
        "        # Compute logits\n",
        "        with torch.no_grad():\n",
        "            logits = model(b_input_ids, b_attn_mask)\n",
        "\n",
        "        # Compute loss\n",
        "        loss = loss_fn(logits, b_labels)\n",
        "        val_loss.append(loss.item())\n",
        "\n",
        "        # Get the predictions\n",
        "        preds = torch.argmax(logits, dim=1).flatten()\n",
        "\n",
        "        # Calculate the accuracy rate\n",
        "        accuracy = (preds == b_labels).cpu().numpy().mean() * 100\n",
        "        val_accuracy.append(accuracy)\n",
        "\n",
        "    # Compute the average accuracy and loss over the validation set.\n",
        "    val_loss = np.mean(val_loss)\n",
        "    val_accuracy = np.mean(val_accuracy)\n",
        "\n",
        "    return val_loss, val_accuracy"
      ]
    },
    {
      "cell_type": "code",
      "execution_count": null,
      "metadata": {
        "id": "da2YAZgU2zhG"
      },
      "outputs": [],
      "source": [
        "set_seed(42)    # Set seed for reproducibility"
      ]
    },
    {
      "cell_type": "code",
      "execution_count": null,
      "metadata": {
        "colab": {
          "base_uri": "https://localhost:8080/"
        },
        "outputId": "12017d57-6d52-4c2b-c2d1-43202debdcfd",
        "id": "qYKcDq192zhG"
      },
      "outputs": [
        {
          "output_type": "stream",
          "name": "stderr",
          "text": [
            "Some weights of the model checkpoint at bert-base-multilingual-uncased were not used when initializing BertModel: ['cls.predictions.transform.LayerNorm.bias', 'cls.predictions.transform.dense.weight', 'cls.predictions.decoder.weight', 'cls.predictions.transform.dense.bias', 'cls.seq_relationship.bias', 'cls.predictions.transform.LayerNorm.weight', 'cls.predictions.bias', 'cls.seq_relationship.weight']\n",
            "- This IS expected if you are initializing BertModel from the checkpoint of a model trained on another task or with another architecture (e.g. initializing a BertForSequenceClassification model from a BertForPreTraining model).\n",
            "- This IS NOT expected if you are initializing BertModel from the checkpoint of a model that you expect to be exactly identical (initializing a BertForSequenceClassification model from a BertForSequenceClassification model).\n"
          ]
        },
        {
          "output_type": "stream",
          "name": "stdout",
          "text": [
            "Start training...\n",
            "\n",
            " Epoch  |  Batch  |  Train Loss  |  Val Loss  |  Val Acc  |  Elapsed \n",
            "----------------------------------------------------------------------\n",
            "   1    |   20    |   1.940155   |     -      |     -     |   10.86  \n",
            "   1    |   40    |   1.722035   |     -      |     -     |   10.58  \n",
            "   1    |   60    |   1.616454   |     -      |     -     |   10.88  \n",
            "   1    |   80    |   1.530776   |     -      |     -     |   10.86  \n",
            "   1    |   100   |   1.434604   |     -      |     -     |   10.66  \n",
            "   1    |   120   |   1.323490   |     -      |     -     |   10.50  \n",
            "   1    |   140   |   1.242280   |     -      |     -     |   10.42  \n",
            "   1    |   160   |   1.230269   |     -      |     -     |   10.37  \n",
            "   1    |   180   |   1.226873   |     -      |     -     |   10.40  \n",
            "   1    |   200   |   1.168506   |     -      |     -     |   10.47  \n",
            "   1    |   220   |   1.203791   |     -      |     -     |   10.54  \n",
            "   1    |   240   |   1.234623   |     -      |     -     |   10.55  \n",
            "   1    |   251   |   1.180476   |     -      |     -     |   5.62   \n",
            "----------------------------------------------------------------------\n",
            "   1    |    -    |   1.398423   |  1.187226  |   59.47   |  138.30  \n",
            "----------------------------------------------------------------------\n",
            "\n",
            "\n",
            " Epoch  |  Batch  |  Train Loss  |  Val Loss  |  Val Acc  |  Elapsed \n",
            "----------------------------------------------------------------------\n",
            "   2    |   20    |   1.089499   |     -      |     -     |   11.05  \n",
            "   2    |   40    |   1.038424   |     -      |     -     |   10.49  \n",
            "   2    |   60    |   1.037177   |     -      |     -     |   10.49  \n",
            "   2    |   80    |   1.000742   |     -      |     -     |   10.50  \n",
            "   2    |   100   |   1.003241   |     -      |     -     |   10.51  \n",
            "   2    |   120   |   1.045885   |     -      |     -     |   10.51  \n",
            "   2    |   140   |   1.052906   |     -      |     -     |   10.53  \n",
            "   2    |   160   |   1.061102   |     -      |     -     |   10.52  \n",
            "   2    |   180   |   1.041562   |     -      |     -     |   10.52  \n",
            "   2    |   200   |   1.013181   |     -      |     -     |   10.51  \n",
            "   2    |   220   |   1.005740   |     -      |     -     |   10.52  \n",
            "   2    |   240   |   0.936744   |     -      |     -     |   10.51  \n",
            "   2    |   251   |   1.032204   |     -      |     -     |   5.62   \n",
            "----------------------------------------------------------------------\n",
            "   2    |    -    |   1.027650   |  0.959965  |   66.98   |  137.86  \n",
            "----------------------------------------------------------------------\n",
            "\n",
            "\n",
            " Epoch  |  Batch  |  Train Loss  |  Val Loss  |  Val Acc  |  Elapsed \n",
            "----------------------------------------------------------------------\n",
            "   3    |   20    |   0.908352   |     -      |     -     |   11.04  \n",
            "   3    |   40    |   0.819331   |     -      |     -     |   10.49  \n",
            "   3    |   60    |   0.864005   |     -      |     -     |   10.52  \n",
            "   3    |   80    |   0.795764   |     -      |     -     |   10.52  \n",
            "   3    |   100   |   0.851039   |     -      |     -     |   10.53  \n",
            "   3    |   120   |   0.791829   |     -      |     -     |   10.50  \n",
            "   3    |   140   |   0.832781   |     -      |     -     |   10.52  \n",
            "   3    |   160   |   0.792416   |     -      |     -     |   10.52  \n",
            "   3    |   180   |   0.824100   |     -      |     -     |   10.53  \n",
            "   3    |   200   |   0.792283   |     -      |     -     |   10.52  \n",
            "   3    |   220   |   0.718465   |     -      |     -     |   10.51  \n",
            "   3    |   240   |   0.832554   |     -      |     -     |   10.53  \n",
            "   3    |   251   |   0.778679   |     -      |     -     |   5.62   \n",
            "----------------------------------------------------------------------\n",
            "   3    |    -    |   0.817191   |  0.950458  |   67.93   |  137.92  \n",
            "----------------------------------------------------------------------\n",
            "\n",
            "\n",
            "Training complete!\n"
          ]
        }
      ],
      "source": [
        "epoch_num = 3\n",
        "bert_classifier, optimizer, scheduler = initialize_model(epochs=epoch_num)\n",
        "train(bert_classifier, train_dataloader, val_dataloader, epochs=epoch_num, evaluation=True)"
      ]
    },
    {
      "cell_type": "code",
      "execution_count": null,
      "metadata": {
        "id": "NC_S0gU_2zhG"
      },
      "outputs": [],
      "source": [
        "import torch.nn.functional as F\n",
        "\n",
        "def bert_predict(model, test_dataloader):\n",
        "    \"\"\"Perform a forward pass on the trained BERT model to predict probabilities\n",
        "    on the test set.\n",
        "    \"\"\"\n",
        "    # Put the model into the evaluation mode. The dropout layers are disabled during\n",
        "    # the test time.\n",
        "    model.eval()\n",
        "\n",
        "    all_logits = []\n",
        "\n",
        "    # For each batch in our test set...\n",
        "    for batch in test_dataloader:\n",
        "        # Load batch to GPU\n",
        "        b_input_ids, b_attn_mask = tuple(t.to(device) for t in batch)[:2]\n",
        "\n",
        "        # Compute logits\n",
        "        with torch.no_grad():\n",
        "            logits = model(b_input_ids, b_attn_mask)\n",
        "        all_logits.append(logits)\n",
        "    \n",
        "    # Concatenate logits from each batch\n",
        "    all_logits = torch.cat(all_logits, dim=0)\n",
        "\n",
        "    # Apply softmax to calculate probabilities\n",
        "    probs = F.softmax(all_logits, dim=1).cpu().numpy()\n",
        "\n",
        "    return probs"
      ]
    },
    {
      "cell_type": "code",
      "execution_count": null,
      "metadata": {
        "id": "HAO5XcXw2zhG"
      },
      "outputs": [],
      "source": [
        "y_test = df_test['label'].to_numpy()\n",
        "test_labels = torch.tensor(y_test)\n",
        "test_inputs, test_masks = preprocessing_for_bert(df_test.tweet)\n",
        "\n",
        "\n",
        "# Create the DataLoader for our test set\n",
        "test_dataset = TensorDataset(test_inputs, test_masks,test_labels)\n",
        "test_sampler = SequentialSampler(test_dataset)\n",
        "test_dataloader = DataLoader(test_dataset, sampler=test_sampler, batch_size=batch_size)"
      ]
    },
    {
      "cell_type": "code",
      "execution_count": null,
      "metadata": {
        "id": "ikHeU4y62zhH"
      },
      "outputs": [],
      "source": [
        "# Compute predicted probabilities on the test set\n",
        "probs = bert_predict(bert_classifier, test_dataloader)\n",
        "tensor = torch.from_numpy(probs)\n",
        "ytest = torch.max(tensor, dim=1)"
      ]
    },
    {
      "cell_type": "code",
      "execution_count": null,
      "metadata": {
        "colab": {
          "base_uri": "https://localhost:8080/"
        },
        "outputId": "30b235d3-65cb-4520-f4de-b1bff014453d",
        "id": "KqUl_JFG2zhH"
      },
      "outputs": [
        {
          "output_type": "stream",
          "name": "stdout",
          "text": [
            "              precision    recall  f1-score   support\n",
            "\n",
            "        none       0.68      0.92      0.78       159\n",
            "       anger       0.68      0.61      0.64       148\n",
            "         joy       0.54      0.39      0.45       122\n",
            "     sadness       0.46      0.55      0.50       105\n",
            "        love       0.73      0.70      0.71       122\n",
            "    sympathy       0.85      0.90      0.87       111\n",
            "    surprise       0.72      0.56      0.63       116\n",
            "        fear       0.97      0.94      0.95       124\n",
            "\n",
            "    accuracy                           0.70      1007\n",
            "   macro avg       0.70      0.70      0.69      1007\n",
            "weighted avg       0.71      0.70      0.70      1007\n",
            "\n"
          ]
        }
      ],
      "source": [
        "from sklearn.metrics import confusion_matrix, classification_report\n",
        "class_names = ['none',\n",
        "'anger' ,\n",
        "'joy', \n",
        "'sadness',\n",
        "'love' ,\n",
        "'sympathy',\n",
        "'surprise',\n",
        "'fear']\n",
        "print(classification_report(df_test.label, ytest.indices, target_names=class_names))\n"
      ]
    },
    {
      "cell_type": "code",
      "execution_count": null,
      "metadata": {
        "colab": {
          "base_uri": "https://localhost:8080/",
          "height": 728
        },
        "outputId": "aca10689-ed6a-46dd-f293-c5958099226d",
        "id": "OUrrKnQX2zhH"
      },
      "outputs": [
        {
          "output_type": "display_data",
          "data": {
            "text/plain": [
              "<Figure size 1200x800 with 2 Axes>"
            ],
            "image/png": "[encoded data removed]"
          },
          "metadata": {}
        }
      ],
      "source": [
        "#Plot confusion matrix\n",
        "import seaborn as sns\n",
        "from matplotlib import rcParams\n",
        "rcParams['figure.figsize'] = 12, 8\n",
        "\n",
        "def show_confusion_matrix(confusion_matrix):\n",
        "  hmap = sns.heatmap(confusion_matrix, annot=True, fmt=\"d\")\n",
        "  hmap.yaxis.set_ticklabels(hmap.yaxis.get_ticklabels(), rotation=0, ha='right')\n",
        "  hmap.xaxis.set_ticklabels(hmap.xaxis.get_ticklabels(), rotation=30, ha='right')\n",
        "  plt.ylabel('True Label')\n",
        "  plt.xlabel('Predicted Label');\n",
        "cm = confusion_matrix(df_test.label,  ytest.indices)\n",
        "df_cm = pd.DataFrame(cm, index=class_names, columns=class_names)\n",
        "show_confusion_matrix(df_cm)"
      ]
    },
    {
      "cell_type": "code",
      "execution_count": null,
      "metadata": {
        "id": "kFiNV1LS2zhH"
      },
      "outputs": [],
      "source": []
    }
  ]
}